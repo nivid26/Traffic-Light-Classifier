{
 "cells": [
  {
   "cell_type": "markdown",
   "id": "cfaba980",
   "metadata": {},
   "source": [
    "### Step 1 : Install Libraries\n",
    "\n"
   ]
  },
  {
   "cell_type": "code",
   "execution_count": 5,
   "id": "93c3ef62",
   "metadata": {
    "scrolled": true
   },
   "outputs": [
    {
     "name": "stdout",
     "output_type": "stream",
     "text": [
      "Collecting tensorflow\n",
      "  Using cached tensorflow-2.10.0-cp310-cp310-win_amd64.whl (455.9 MB)\n",
      "Requirement already satisfied: pandas in c:\\users\\patel\\appdata\\local\\packages\\pythonsoftwarefoundation.python.3.10_qbz5n2kfra8p0\\localcache\\local-packages\\python310\\site-packages (1.4.1)\n",
      "Requirement already satisfied: numpy in c:\\users\\patel\\appdata\\local\\packages\\pythonsoftwarefoundation.python.3.10_qbz5n2kfra8p0\\localcache\\local-packages\\python310\\site-packages (1.22.2)\n",
      "Requirement already satisfied: sklearn in c:\\users\\patel\\appdata\\local\\packages\\pythonsoftwarefoundation.python.3.10_qbz5n2kfra8p0\\localcache\\local-packages\\python310\\site-packages (0.0)\n",
      "Requirement already satisfied: keras in c:\\users\\patel\\appdata\\local\\packages\\pythonsoftwarefoundation.python.3.10_qbz5n2kfra8p0\\localcache\\local-packages\\python310\\site-packages (2.10.0)\n",
      "Requirement already satisfied: termcolor>=1.1.0 in c:\\users\\patel\\appdata\\local\\packages\\pythonsoftwarefoundation.python.3.10_qbz5n2kfra8p0\\localcache\\local-packages\\python310\\site-packages (from tensorflow) (2.1.0)\n",
      "Requirement already satisfied: wrapt>=1.11.0 in c:\\users\\patel\\appdata\\local\\packages\\pythonsoftwarefoundation.python.3.10_qbz5n2kfra8p0\\localcache\\local-packages\\python310\\site-packages (from tensorflow) (1.14.1)\n",
      "Note: you may need to restart the kernel to use updated packages.Requirement already satisfied: tensorflow-io-gcs-filesystem>=0.23.1 in c:\\users\\patel\\appdata\\local\\packages\\pythonsoftwarefoundation.python.3.10_qbz5n2kfra8p0\\localcache\\local-packages\\python310\\site-packages (from tensorflow) (0.27.0)\n",
      "Requirement already satisfied: packaging in c:\\users\\patel\\appdata\\local\\packages\\pythonsoftwarefoundation.python.3.10_qbz5n2kfra8p0\\localcache\\local-packages\\python310\\site-packages (from tensorflow) (21.3)\n",
      "\n",
      "Requirement already satisfied: setuptools in c:\\program files\\windowsapps\\pythonsoftwarefoundation.python.3.10_3.10.2288.0_x64__qbz5n2kfra8p0\\lib\\site-packages (from tensorflow) (63.2.0)\n",
      "Requirement already satisfied: h5py>=2.9.0 in c:\\users\\patel\\appdata\\local\\packages\\pythonsoftwarefoundation.python.3.10_qbz5n2kfra8p0\\localcache\\local-packages\\python310\\site-packages (from tensorflow) (3.7.0)\n",
      "Requirement already satisfied: gast<=0.4.0,>=0.2.1 in c:\\users\\patel\\appdata\\local\\packages\\pythonsoftwarefoundation.python.3.10_qbz5n2kfra8p0\\localcache\\local-packages\\python310\\site-packages (from tensorflow) (0.4.0)\n",
      "Requirement already satisfied: opt-einsum>=2.3.2 in c:\\users\\patel\\appdata\\local\\packages\\pythonsoftwarefoundation.python.3.10_qbz5n2kfra8p0\\localcache\\local-packages\\python310\\site-packages (from tensorflow) (3.3.0)\n",
      "Requirement already satisfied: absl-py>=1.0.0 in c:\\users\\patel\\appdata\\local\\packages\\pythonsoftwarefoundation.python.3.10_qbz5n2kfra8p0\\localcache\\local-packages\\python310\\site-packages (from tensorflow) (1.3.0)\n",
      "Requirement already satisfied: six>=1.12.0 in c:\\users\\patel\\appdata\\local\\packages\\pythonsoftwarefoundation.python.3.10_qbz5n2kfra8p0\\localcache\\local-packages\\python310\\site-packages (from tensorflow) (1.16.0)\n",
      "Requirement already satisfied: typing-extensions>=3.6.6 in c:\\users\\patel\\appdata\\local\\packages\\pythonsoftwarefoundation.python.3.10_qbz5n2kfra8p0\\localcache\\local-packages\\python310\\site-packages (from tensorflow) (4.1.1)\n",
      "Requirement already satisfied: protobuf<3.20,>=3.9.2 in c:\\users\\patel\\appdata\\local\\packages\\pythonsoftwarefoundation.python.3.10_qbz5n2kfra8p0\\localcache\\local-packages\\python310\\site-packages (from tensorflow) (3.19.6)\n",
      "Requirement already satisfied: libclang>=13.0.0 in c:\\users\\patel\\appdata\\local\\packages\\pythonsoftwarefoundation.python.3.10_qbz5n2kfra8p0\\localcache\\local-packages\\python310\\site-packages (from tensorflow) (14.0.6)\n",
      "Requirement already satisfied: astunparse>=1.6.0 in c:\\users\\patel\\appdata\\local\\packages\\pythonsoftwarefoundation.python.3.10_qbz5n2kfra8p0\\localcache\\local-packages\\python310\\site-packages (from tensorflow) (1.6.3)\n",
      "Requirement already satisfied: tensorboard<2.11,>=2.10 in c:\\users\\patel\\appdata\\local\\packages\\pythonsoftwarefoundation.python.3.10_qbz5n2kfra8p0\\localcache\\local-packages\\python310\\site-packages (from tensorflow) (2.10.1)\n",
      "Requirement already satisfied: keras-preprocessing>=1.1.1 in c:\\users\\patel\\appdata\\local\\packages\\pythonsoftwarefoundation.python.3.10_qbz5n2kfra8p0\\localcache\\local-packages\\python310\\site-packages (from tensorflow) (1.1.2)\n",
      "Requirement already satisfied: flatbuffers>=2.0 in c:\\users\\patel\\appdata\\local\\packages\\pythonsoftwarefoundation.python.3.10_qbz5n2kfra8p0\\localcache\\local-packages\\python310\\site-packages (from tensorflow) (22.10.26)\n",
      "Requirement already satisfied: tensorflow-estimator<2.11,>=2.10.0 in c:\\users\\patel\\appdata\\local\\packages\\pythonsoftwarefoundation.python.3.10_qbz5n2kfra8p0\\localcache\\local-packages\\python310\\site-packages (from tensorflow) (2.10.0)\n",
      "Requirement already satisfied: google-pasta>=0.1.1 in c:\\users\\patel\\appdata\\local\\packages\\pythonsoftwarefoundation.python.3.10_qbz5n2kfra8p0\\localcache\\local-packages\\python310\\site-packages (from tensorflow) (0.2.0)\n",
      "Requirement already satisfied: grpcio<2.0,>=1.24.3 in c:\\users\\patel\\appdata\\local\\packages\\pythonsoftwarefoundation.python.3.10_qbz5n2kfra8p0\\localcache\\local-packages\\python310\\site-packages (from tensorflow) (1.50.0)\n",
      "Requirement already satisfied: python-dateutil>=2.8.1 in c:\\users\\patel\\appdata\\local\\packages\\pythonsoftwarefoundation.python.3.10_qbz5n2kfra8p0\\localcache\\local-packages\\python310\\site-packages (from pandas) (2.8.2)\n",
      "Requirement already satisfied: pytz>=2020.1 in c:\\users\\patel\\appdata\\local\\packages\\pythonsoftwarefoundation.python.3.10_qbz5n2kfra8p0\\localcache\\local-packages\\python310\\site-packages (from pandas) (2021.3)\n",
      "Requirement already satisfied: scikit-learn in c:\\users\\patel\\appdata\\local\\packages\\pythonsoftwarefoundation.python.3.10_qbz5n2kfra8p0\\localcache\\local-packages\\python310\\site-packages (from sklearn) (1.1.1)\n",
      "Requirement already satisfied: wheel<1.0,>=0.23.0 in c:\\users\\patel\\appdata\\local\\packages\\pythonsoftwarefoundation.python.3.10_qbz5n2kfra8p0\\localcache\\local-packages\\python310\\site-packages (from astunparse>=1.6.0->tensorflow) (0.37.1)\n"
     ]
    },
    {
     "name": "stderr",
     "output_type": "stream",
     "text": [
      "ERROR: Could not install packages due to an OSError: [Errno 2] No such file or directory: 'C:\\\\Users\\\\patel\\\\AppData\\\\Local\\\\Packages\\\\PythonSoftwareFoundation.Python.3.10_qbz5n2kfra8p0\\\\LocalCache\\\\local-packages\\\\Python310\\\\site-packages\\\\tensorflow\\\\include\\\\external\\\\com_github_grpc_grpc\\\\src\\\\core\\\\ext\\\\filters\\\\client_channel\\\\lb_policy\\\\grpclb\\\\client_load_reporting_filter.h'\n",
      "HINT: This error might have occurred since this system does not have Windows Long Path support enabled. You can find information on how to enable this at https://pip.pypa.io/warnings/enable-long-paths\n",
      "\n"
     ]
    },
    {
     "name": "stdout",
     "output_type": "stream",
     "text": [
      "Requirement already satisfied: google-auth-oauthlib<0.5,>=0.4.1 in c:\\users\\patel\\appdata\\local\\packages\\pythonsoftwarefoundation.python.3.10_qbz5n2kfra8p0\\localcache\\local-packages\\python310\\site-packages (from tensorboard<2.11,>=2.10->tensorflow) (0.4.6)\n",
      "Requirement already satisfied: google-auth<3,>=1.6.3 in c:\\users\\patel\\appdata\\local\\packages\\pythonsoftwarefoundation.python.3.10_qbz5n2kfra8p0\\localcache\\local-packages\\python310\\site-packages (from tensorboard<2.11,>=2.10->tensorflow) (2.14.0)\n",
      "Requirement already satisfied: markdown>=2.6.8 in c:\\users\\patel\\appdata\\local\\packages\\pythonsoftwarefoundation.python.3.10_qbz5n2kfra8p0\\localcache\\local-packages\\python310\\site-packages (from tensorboard<2.11,>=2.10->tensorflow) (3.4.1)\n",
      "Requirement already satisfied: tensorboard-data-server<0.7.0,>=0.6.0 in c:\\users\\patel\\appdata\\local\\packages\\pythonsoftwarefoundation.python.3.10_qbz5n2kfra8p0\\localcache\\local-packages\\python310\\site-packages (from tensorboard<2.11,>=2.10->tensorflow) (0.6.1)\n",
      "Requirement already satisfied: werkzeug>=1.0.1 in c:\\users\\patel\\appdata\\local\\packages\\pythonsoftwarefoundation.python.3.10_qbz5n2kfra8p0\\localcache\\local-packages\\python310\\site-packages (from tensorboard<2.11,>=2.10->tensorflow) (2.0.2)\n",
      "Requirement already satisfied: requests<3,>=2.21.0 in c:\\users\\patel\\appdata\\local\\packages\\pythonsoftwarefoundation.python.3.10_qbz5n2kfra8p0\\localcache\\local-packages\\python310\\site-packages (from tensorboard<2.11,>=2.10->tensorflow) (2.27.1)\n",
      "Requirement already satisfied: tensorboard-plugin-wit>=1.6.0 in c:\\users\\patel\\appdata\\local\\packages\\pythonsoftwarefoundation.python.3.10_qbz5n2kfra8p0\\localcache\\local-packages\\python310\\site-packages (from tensorboard<2.11,>=2.10->tensorflow) (1.8.1)\n",
      "Requirement already satisfied: pyparsing!=3.0.5,>=2.0.2 in c:\\users\\patel\\appdata\\local\\packages\\pythonsoftwarefoundation.python.3.10_qbz5n2kfra8p0\\localcache\\local-packages\\python310\\site-packages (from packaging->tensorflow) (3.0.7)\n",
      "Requirement already satisfied: joblib>=1.0.0 in c:\\users\\patel\\appdata\\local\\packages\\pythonsoftwarefoundation.python.3.10_qbz5n2kfra8p0\\localcache\\local-packages\\python310\\site-packages (from scikit-learn->sklearn) (1.1.0)\n",
      "Requirement already satisfied: scipy>=1.3.2 in c:\\users\\patel\\appdata\\local\\packages\\pythonsoftwarefoundation.python.3.10_qbz5n2kfra8p0\\localcache\\local-packages\\python310\\site-packages (from scikit-learn->sklearn) (1.8.1)\n",
      "Requirement already satisfied: threadpoolctl>=2.0.0 in c:\\users\\patel\\appdata\\local\\packages\\pythonsoftwarefoundation.python.3.10_qbz5n2kfra8p0\\localcache\\local-packages\\python310\\site-packages (from scikit-learn->sklearn) (3.1.0)\n",
      "Requirement already satisfied: pyasn1-modules>=0.2.1 in c:\\users\\patel\\appdata\\local\\packages\\pythonsoftwarefoundation.python.3.10_qbz5n2kfra8p0\\localcache\\local-packages\\python310\\site-packages (from google-auth<3,>=1.6.3->tensorboard<2.11,>=2.10->tensorflow) (0.2.8)\n",
      "Requirement already satisfied: cachetools<6.0,>=2.0.0 in c:\\users\\patel\\appdata\\local\\packages\\pythonsoftwarefoundation.python.3.10_qbz5n2kfra8p0\\localcache\\local-packages\\python310\\site-packages (from google-auth<3,>=1.6.3->tensorboard<2.11,>=2.10->tensorflow) (5.2.0)\n",
      "Requirement already satisfied: rsa<5,>=3.1.4 in c:\\users\\patel\\appdata\\local\\packages\\pythonsoftwarefoundation.python.3.10_qbz5n2kfra8p0\\localcache\\local-packages\\python310\\site-packages (from google-auth<3,>=1.6.3->tensorboard<2.11,>=2.10->tensorflow) (4.9)\n",
      "Requirement already satisfied: requests-oauthlib>=0.7.0 in c:\\users\\patel\\appdata\\local\\packages\\pythonsoftwarefoundation.python.3.10_qbz5n2kfra8p0\\localcache\\local-packages\\python310\\site-packages (from google-auth-oauthlib<0.5,>=0.4.1->tensorboard<2.11,>=2.10->tensorflow) (1.3.1)\n",
      "Requirement already satisfied: idna<4,>=2.5 in c:\\users\\patel\\appdata\\local\\packages\\pythonsoftwarefoundation.python.3.10_qbz5n2kfra8p0\\localcache\\local-packages\\python310\\site-packages (from requests<3,>=2.21.0->tensorboard<2.11,>=2.10->tensorflow) (3.3)\n",
      "Requirement already satisfied: certifi>=2017.4.17 in c:\\users\\patel\\appdata\\local\\packages\\pythonsoftwarefoundation.python.3.10_qbz5n2kfra8p0\\localcache\\local-packages\\python310\\site-packages (from requests<3,>=2.21.0->tensorboard<2.11,>=2.10->tensorflow) (2021.10.8)\n",
      "Requirement already satisfied: charset-normalizer~=2.0.0 in c:\\users\\patel\\appdata\\local\\packages\\pythonsoftwarefoundation.python.3.10_qbz5n2kfra8p0\\localcache\\local-packages\\python310\\site-packages (from requests<3,>=2.21.0->tensorboard<2.11,>=2.10->tensorflow) (2.0.12)\n",
      "Requirement already satisfied: urllib3<1.27,>=1.21.1 in c:\\users\\patel\\appdata\\local\\packages\\pythonsoftwarefoundation.python.3.10_qbz5n2kfra8p0\\localcache\\local-packages\\python310\\site-packages (from requests<3,>=2.21.0->tensorboard<2.11,>=2.10->tensorflow) (1.26.8)\n",
      "Requirement already satisfied: pyasn1<0.5.0,>=0.4.6 in c:\\users\\patel\\appdata\\local\\packages\\pythonsoftwarefoundation.python.3.10_qbz5n2kfra8p0\\localcache\\local-packages\\python310\\site-packages (from pyasn1-modules>=0.2.1->google-auth<3,>=1.6.3->tensorboard<2.11,>=2.10->tensorflow) (0.4.8)\n",
      "Requirement already satisfied: oauthlib>=3.0.0 in c:\\users\\patel\\appdata\\local\\packages\\pythonsoftwarefoundation.python.3.10_qbz5n2kfra8p0\\localcache\\local-packages\\python310\\site-packages (from requests-oauthlib>=0.7.0->google-auth-oauthlib<0.5,>=0.4.1->tensorboard<2.11,>=2.10->tensorflow) (3.2.2)\n",
      "Installing collected packages: tensorflow\n",
      "\n",
      "[notice] A new release of pip available: 22.1.2 -> 22.3.1\n",
      "[notice] To update, run: C:\\Users\\patel\\AppData\\Local\\Microsoft\\WindowsApps\\PythonSoftwareFoundation.Python.3.10_qbz5n2kfra8p0\\python.exe -m pip install --upgrade pip\n"
     ]
    }
   ],
   "source": [
    "pip install tensorflow pandas numpy sklearn keras\n"
   ]
  },
  {
   "cell_type": "markdown",
   "id": "cb86e36c",
   "metadata": {},
   "source": [
    "### Step 2: Import Libarires"
   ]
  },
  {
   "cell_type": "code",
   "execution_count": 14,
   "id": "2cd98b8a",
   "metadata": {},
   "outputs": [],
   "source": [
    "import numpy as np\n",
    "import matplotlib.pyplot as plt\n",
    "\n",
    "from PIL import Image\n",
    "import os\n",
    "import pandas as pd\n",
    "\n",
    "from sklearn.preprocessing import MinMaxScaler\n",
    "from sklearn.model_selection import train_test_split\n",
    "from tensorflow.keras.utils import to_categorical\n",
    "from keras.models import Sequential\n",
    "from keras.layers import Conv2D, MaxPool2D, Dense, Flatten, Dropout\n",
    "\n",
    "from sklearn.metrics import confusion_matrix\n",
    "from sklearn.metrics import accuracy_score\n",
    "from sklearn.metrics import precision_score\n",
    "from sklearn.metrics import recall_score\n",
    "from sklearn.metrics import f1_score\n"
   ]
  },
  {
   "cell_type": "markdown",
   "id": "f44ec611",
   "metadata": {},
   "source": [
    "### Step 3 : Add Training Data Set into Program and Normalize it"
   ]
  },
  {
   "cell_type": "code",
   "execution_count": 15,
   "id": "14411aa6",
   "metadata": {},
   "outputs": [
    {
     "name": "stdout",
     "output_type": "stream",
     "text": [
      "(39209, 30, 30, 3) (39209,)\n"
     ]
    }
   ],
   "source": [
    "data = []\n",
    "labels = []\n",
    "classes = 43\n",
    "cur_path = \"C:\\\\Users\\\\patel\\\\OneDrive\\\\download\\\\archive\\\\Train\\\\\"\n",
    "data_folder = 'data'\n",
    "\n",
    "# Loading training dataset\n",
    "for i in range(classes):\n",
    "    path = os.path.join(cur_path,str(i))\n",
    "    images = os.listdir(path)\n",
    "\n",
    "    for a in images:\n",
    "        try:\n",
    "            image = Image.open(path + '\\\\'+ a)\n",
    "            image = image.resize((30,30))\n",
    "            image = np.array(image)\n",
    "            data.append(image)\n",
    "            labels.append(i)\n",
    "        except:\n",
    "            print(\"Error loading image\")\n",
    "\n",
    "# Converting lists into numpy arrays\n",
    "data = np.array(data)\n",
    "labels = np.array(labels)\n",
    "\n",
    "# Normalizing data via Min-Max normalizer\n",
    "scaler = MinMaxScaler()\n",
    "ascolumns = data.reshape(-1, 3)\n",
    "t = scaler.fit_transform(ascolumns)\n",
    "data = t.reshape(data.shape)\n",
    "print(data.shape, labels.shape)"
   ]
  },
  {
   "cell_type": "markdown",
   "id": "ef5703bc",
   "metadata": {},
   "source": [
    "### Step 3: Split Data into Train Set and Validation Set (Test)"
   ]
  },
  {
   "cell_type": "code",
   "execution_count": 16,
   "id": "88be1ef3",
   "metadata": {},
   "outputs": [],
   "source": [
    "X_train, X_val, y_train, y_val = train_test_split(data, labels, test_size=0.2, random_state=42)"
   ]
  },
  {
   "cell_type": "code",
   "execution_count": 17,
   "id": "9d11427b",
   "metadata": {},
   "outputs": [
    {
     "name": "stdout",
     "output_type": "stream",
     "text": [
      "(31367, 30, 30, 3) (7842, 30, 30, 3) (31367,) (7842,)\n"
     ]
    }
   ],
   "source": [
    "print(X_train.shape, X_val.shape, y_train.shape, y_val.shape)"
   ]
  },
  {
   "cell_type": "code",
   "execution_count": 18,
   "id": "bf33a337",
   "metadata": {},
   "outputs": [],
   "source": [
    "# Converting the labels into one hot encoding\n",
    "y_train = to_categorical(y_train, 43)\n",
    "y_val = to_categorical(y_val, 43)"
   ]
  },
  {
   "cell_type": "markdown",
   "id": "893e6f99",
   "metadata": {},
   "source": [
    "### Step 4: Model Build Up"
   ]
  },
  {
   "cell_type": "code",
   "execution_count": 29,
   "id": "db9e1223",
   "metadata": {},
   "outputs": [
    {
     "name": "stdout",
     "output_type": "stream",
     "text": [
      "Model: \"sequential_4\"\n",
      "_________________________________________________________________\n",
      " Layer (type)                Output Shape              Param #   \n",
      "=================================================================\n",
      " conv2d_5 (Conv2D)           (None, 26, 26, 32)        2432      \n",
      "                                                                 \n",
      " max_pooling2d_5 (MaxPooling  (None, 13, 13, 32)       0         \n",
      " 2D)                                                             \n",
      "                                                                 \n",
      " dropout_9 (Dropout)         (None, 13, 13, 32)        0         \n",
      "                                                                 \n",
      " conv2d_6 (Conv2D)           (None, 11, 11, 64)        18496     \n",
      "                                                                 \n",
      " max_pooling2d_6 (MaxPooling  (None, 5, 5, 64)         0         \n",
      " 2D)                                                             \n",
      "                                                                 \n",
      " dropout_10 (Dropout)        (None, 5, 5, 64)          0         \n",
      "                                                                 \n",
      " flatten_4 (Flatten)         (None, 1600)              0         \n",
      "                                                                 \n",
      " dense_8 (Dense)             (None, 256)               409856    \n",
      "                                                                 \n",
      " dropout_11 (Dropout)        (None, 256)               0         \n",
      "                                                                 \n",
      " dense_9 (Dense)             (None, 43)                11051     \n",
      "                                                                 \n",
      "=================================================================\n",
      "Total params: 441,835\n",
      "Trainable params: 441,835\n",
      "Non-trainable params: 0\n",
      "_________________________________________________________________\n",
      "10\n"
     ]
    }
   ],
   "source": [
    "# Building the model\n",
    "model = Sequential()\n",
    "model.add(Conv2D(filters=32, kernel_size=(5,5), activation='relu', input_shape=X_train.shape[1:]))\n",
    "model.add(MaxPool2D(pool_size=(2, 2)))\n",
    "model.add(Dropout(rate=0.25))\n",
    "model.add(Conv2D(filters=64, kernel_size=(3, 3), activation='relu'))\n",
    "model.add(MaxPool2D(pool_size=(2, 2)))\n",
    "model.add(Dropout(rate=0.25))\n",
    "model.add(Flatten())\n",
    "model.add(Dense(256, activation='relu'))\n",
    "model.add(Dropout(rate=0.5))\n",
    "model.add(Dense(43, activation='softmax'))\n",
    "model.summary()\n",
    "print(len(model.layers))"
   ]
  },
  {
   "cell_type": "markdown",
   "id": "a372f288",
   "metadata": {},
   "source": [
    "### Step 5: Compilation of the model"
   ]
  },
  {
   "cell_type": "code",
   "execution_count": 20,
   "id": "cf92b30d",
   "metadata": {},
   "outputs": [
    {
     "name": "stdout",
     "output_type": "stream",
     "text": [
      "Epoch 1/15\n",
      "981/981 [==============================] - 26s 25ms/step - loss: 1.4013 - accuracy: 0.6081 - val_loss: 0.2773 - val_accuracy: 0.9401\n",
      "Epoch 2/15\n",
      "981/981 [==============================] - 25s 26ms/step - loss: 0.3786 - accuracy: 0.8848 - val_loss: 0.1121 - val_accuracy: 0.9772\n",
      "Epoch 3/15\n",
      "981/981 [==============================] - 26s 27ms/step - loss: 0.2336 - accuracy: 0.9286 - val_loss: 0.0707 - val_accuracy: 0.9860\n",
      "Epoch 4/15\n",
      "981/981 [==============================] - 26s 26ms/step - loss: 0.1697 - accuracy: 0.9476 - val_loss: 0.0493 - val_accuracy: 0.9903\n",
      "Epoch 5/15\n",
      "981/981 [==============================] - 26s 26ms/step - loss: 0.1417 - accuracy: 0.9559 - val_loss: 0.0328 - val_accuracy: 0.9930\n",
      "Epoch 6/15\n",
      "981/981 [==============================] - 26s 26ms/step - loss: 0.1172 - accuracy: 0.9629 - val_loss: 0.0316 - val_accuracy: 0.9918\n",
      "Epoch 7/15\n",
      "981/981 [==============================] - 26s 27ms/step - loss: 0.1009 - accuracy: 0.9684 - val_loss: 0.0292 - val_accuracy: 0.9929\n",
      "Epoch 8/15\n",
      "981/981 [==============================] - 26s 26ms/step - loss: 0.0983 - accuracy: 0.9691 - val_loss: 0.0254 - val_accuracy: 0.9938\n",
      "Epoch 9/15\n",
      "981/981 [==============================] - 26s 26ms/step - loss: 0.0883 - accuracy: 0.9712 - val_loss: 0.0232 - val_accuracy: 0.9943\n",
      "Epoch 10/15\n",
      "981/981 [==============================] - 27s 28ms/step - loss: 0.0775 - accuracy: 0.9758 - val_loss: 0.0267 - val_accuracy: 0.9935\n",
      "Epoch 11/15\n",
      "981/981 [==============================] - 26s 26ms/step - loss: 0.0809 - accuracy: 0.9752 - val_loss: 0.0229 - val_accuracy: 0.9944\n",
      "Epoch 12/15\n",
      "981/981 [==============================] - 26s 27ms/step - loss: 0.0758 - accuracy: 0.9765 - val_loss: 0.0200 - val_accuracy: 0.9945\n",
      "Epoch 13/15\n",
      "981/981 [==============================] - 26s 27ms/step - loss: 0.0696 - accuracy: 0.9789 - val_loss: 0.0240 - val_accuracy: 0.9944\n",
      "Epoch 14/15\n",
      "981/981 [==============================] - 27s 27ms/step - loss: 0.0681 - accuracy: 0.9796 - val_loss: 0.0249 - val_accuracy: 0.9941\n",
      "Epoch 15/15\n",
      "981/981 [==============================] - 26s 26ms/step - loss: 0.0692 - accuracy: 0.9781 - val_loss: 0.0213 - val_accuracy: 0.9954\n"
     ]
    }
   ],
   "source": [
    "model.compile(loss='categorical_crossentropy', optimizer='adam', metrics=['accuracy'])\n",
    "epochs = 15\n",
    "history = model.fit(X_train, y_train, batch_size=32, epochs=epochs, validation_data=(X_val, y_val))\n",
    "model.save('traffic_classifier.h5')\n"
   ]
  },
  {
   "cell_type": "markdown",
   "id": "c6ba0db4",
   "metadata": {},
   "source": [
    "### Plotting graphs for accuracy"
   ]
  },
  {
   "cell_type": "code",
   "execution_count": 21,
   "id": "eacf0df1",
   "metadata": {
    "scrolled": false
   },
   "outputs": [
    {
     "data": {
      "image/png": "[encoded data removed]",
      "text/plain": [
       "<Figure size 432x288 with 1 Axes>"
      ]
     },
     "metadata": {
      "needs_background": "light"
     },
     "output_type": "display_data"
    },
    {
     "data": {
      "image/png": "[encoded data removed]",
      "text/plain": [
       "<Figure size 432x288 with 1 Axes>"
      ]
     },
     "metadata": {
      "needs_background": "light"
     },
     "output_type": "display_data"
    }
   ],
   "source": [
    "plt.figure(0)\n",
    "plt.plot(history.history['accuracy'], label='training accuracy')\n",
    "plt.plot(history.history['val_accuracy'], label='val accuracy')\n",
    "plt.title('Accuracy')\n",
    "plt.xlabel('epochs')\n",
    "plt.ylabel('accuracy')\n",
    "plt.legend()\n",
    "plt.show()\n",
    "\n",
    "plt.figure(1)\n",
    "plt.plot(history.history['loss'], label='training loss')\n",
    "plt.plot(history.history['val_loss'], label='val loss')\n",
    "plt.title('Loss')\n",
    "plt.xlabel('epochs')\n",
    "plt.ylabel('loss')\n",
    "plt.legend()\n",
    "plt.show()\n"
   ]
  },
  {
   "cell_type": "markdown",
   "id": "5606f02a",
   "metadata": {},
   "source": [
    "### Step 6:Import Test Data for Testing"
   ]
  },
  {
   "cell_type": "code",
   "execution_count": 24,
   "id": "d7a7022c",
   "metadata": {},
   "outputs": [],
   "source": [
    "# Testing the model\n",
    "test_path = \"C:\\\\Users\\\\patel\\\\OneDrive\\\\download\\\\archive\\\\\"\n",
    "path = os.path.join(test_path)\n",
    "data = \"C:\\\\Users\\\\patel\\\\OneDrive\\\\download\\\\archive\\\\\"\n",
    "y_test = pd.read_csv(data +'Test.csv')\n",
    "labels = y_test[\"ClassId\"].values\n",
    "imgs = y_test[\"Path\"].values\n",
    "\n",
    "data=[]\n",
    "\n",
    "for img in imgs:\n",
    "    image = Image.open(path + img)\n",
    "    image = image.resize((30,30))\n",
    "    data.append(np.array(image))\n",
    "X_test = np.array(data)\n",
    "\n",
    "# Normalizing test set\n",
    "ascolumns = X_test.reshape(-1, 3)\n",
    "t = scaler.transform(ascolumns)\n",
    "X_test = t.reshape(X_test.shape)\n"
   ]
  },
  {
   "cell_type": "markdown",
   "id": "8d1d869e",
   "metadata": {},
   "source": [
    "### Step 7: Prediction and Accuracy on Test Data3"
   ]
  },
  {
   "cell_type": "code",
   "execution_count": 25,
   "id": "345ab920",
   "metadata": {},
   "outputs": [
    {
     "name": "stdout",
     "output_type": "stream",
     "text": [
      "395/395 [==============================] - 2s 5ms/step\n",
      "Confusion Matrix:\n",
      "[[ 45   9   0 ...   0   0   0]\n",
      " [  0 717   2 ...   0   0   0]\n",
      " [  0   7 741 ...   1   0   0]\n",
      " ...\n",
      " [  0   0   0 ...  89   0   0]\n",
      " [  0   0   0 ...   0  51   0]\n",
      " [  0   0   0 ...   0   0  90]]\n",
      "Accuracy: 0.962866\n",
      "Precision: 0.949239\n",
      "Recall: 0.944408\n",
      "F1 score: 0.944361\n"
     ]
    }
   ],
   "source": [
    "# Predicting on test set\n",
    "pred = np.argmax(model.predict(X_test),axis=1)\n",
    "cm = confusion_matrix(labels, pred)\n",
    "print('Confusion Matrix:')\n",
    "print(cm)\n",
    "\n",
    "# accuracy: (tp + tn) / (p + n)\n",
    "accuracy = accuracy_score(labels, pred)\n",
    "print('Accuracy: %f' % accuracy)\n",
    "# precision tp / (tp + fp)\n",
    "precision = precision_score(labels, pred, average='macro')\n",
    "print('Precision: %f' % precision)\n",
    "# recall: tp / (tp + fn)\n",
    "recall = recall_score(labels, pred, average='macro')\n",
    "print('Recall: %f' % recall)\n",
    "# f1: 2 tp / (2 tp + fp + fn)\n",
    "f1 = f1_score(labels, pred, average='macro')\n",
    "print('F1 score: %f' % f1)"
   ]
  },
  {
   "cell_type": "markdown",
   "id": "7512565d",
   "metadata": {},
   "source": [
    "### Model with Different Setup\n"
   ]
  },
  {
   "cell_type": "code",
   "execution_count": 30,
   "id": "85a8c16b",
   "metadata": {
    "scrolled": false
   },
   "outputs": [
    {
     "name": "stdout",
     "output_type": "stream",
     "text": [
      "Model: \"sequential_5\"\n",
      "_________________________________________________________________\n",
      " Layer (type)                Output Shape              Param #   \n",
      "=================================================================\n",
      " conv2d_7 (Conv2D)           (None, 26, 26, 32)        2432      \n",
      "                                                                 \n",
      " max_pooling2d_7 (MaxPooling  (None, 13, 13, 32)       0         \n",
      " 2D)                                                             \n",
      "                                                                 \n",
      " dropout_12 (Dropout)        (None, 13, 13, 32)        0         \n",
      "                                                                 \n",
      " flatten_5 (Flatten)         (None, 5408)              0         \n",
      "                                                                 \n",
      " dense_10 (Dense)            (None, 256)               1384704   \n",
      "                                                                 \n",
      " dropout_13 (Dropout)        (None, 256)               0         \n",
      "                                                                 \n",
      " dense_11 (Dense)            (None, 43)                11051     \n",
      "                                                                 \n",
      "=================================================================\n",
      "Total params: 1,398,187\n",
      "Trainable params: 1,398,187\n",
      "Non-trainable params: 0\n",
      "_________________________________________________________________\n",
      "7\n",
      "Epoch 1/10\n",
      "981/981 [==============================] - 22s 22ms/step - loss: 1.2357 - accuracy: 0.6594 - val_loss: 0.3144 - val_accuracy: 0.9300\n",
      "Epoch 2/10\n",
      "981/981 [==============================] - 22s 22ms/step - loss: 0.4283 - accuracy: 0.8760 - val_loss: 0.1893 - val_accuracy: 0.9527\n",
      "Epoch 3/10\n",
      "981/981 [==============================] - 23s 23ms/step - loss: 0.2988 - accuracy: 0.9122 - val_loss: 0.1409 - val_accuracy: 0.9676\n",
      "Epoch 4/10\n",
      "981/981 [==============================] - 22s 22ms/step - loss: 0.2366 - accuracy: 0.9299 - val_loss: 0.1015 - val_accuracy: 0.9748\n",
      "Epoch 5/10\n",
      "981/981 [==============================] - 22s 23ms/step - loss: 0.1972 - accuracy: 0.9406 - val_loss: 0.0936 - val_accuracy: 0.9772\n",
      "Epoch 6/10\n",
      "981/981 [==============================] - 22s 23ms/step - loss: 0.1743 - accuracy: 0.9480 - val_loss: 0.0903 - val_accuracy: 0.9832\n",
      "Epoch 7/10\n",
      "981/981 [==============================] - 22s 22ms/step - loss: 0.1669 - accuracy: 0.9500 - val_loss: 0.0691 - val_accuracy: 0.9838\n",
      "Epoch 8/10\n",
      "981/981 [==============================] - 22s 22ms/step - loss: 0.1446 - accuracy: 0.9571 - val_loss: 0.0774 - val_accuracy: 0.9832\n",
      "Epoch 9/10\n",
      "981/981 [==============================] - 22s 22ms/step - loss: 0.1436 - accuracy: 0.9577 - val_loss: 0.0527 - val_accuracy: 0.9878\n",
      "Epoch 10/10\n",
      "981/981 [==============================] - 23s 23ms/step - loss: 0.1265 - accuracy: 0.9631 - val_loss: 0.0566 - val_accuracy: 0.9874\n"
     ]
    },
    {
     "data": {
      "image/png": "[encoded data removed]",
      "text/plain": [
       "<Figure size 432x288 with 1 Axes>"
      ]
     },
     "metadata": {
      "needs_background": "light"
     },
     "output_type": "display_data"
    },
    {
     "data": {
      "image/png": "[encoded data removed]",
      "text/plain": [
       "<Figure size 432x288 with 1 Axes>"
      ]
     },
     "metadata": {
      "needs_background": "light"
     },
     "output_type": "display_data"
    },
    {
     "name": "stdout",
     "output_type": "stream",
     "text": [
      "395/395 [==============================] - 2s 5ms/step\n",
      "Confusion Matrix:\n",
      "[[ 46   5   0 ...   0   0   0]\n",
      " [  1 665  28 ...   0   0   0]\n",
      " [  0  13 705 ...   0   0   0]\n",
      " ...\n",
      " [  0   0   0 ...  82   0   0]\n",
      " [  0   0   0 ...   0  44   0]\n",
      " [  0   0   0 ...   0   1  89]]\n",
      "Accuracy: 0.931591\n",
      "Precision: 0.920880\n",
      "Recall: 0.902539\n",
      "F1 score: 0.906067\n"
     ]
    }
   ],
   "source": [
    "# Building the model_1\n",
    "model_1 = Sequential()\n",
    "model_1.add(Conv2D(filters=32, kernel_size=(5,5), activation='relu', input_shape=X_train.shape[1:]))\n",
    "model_1.add(MaxPool2D(pool_size=(2, 2)))\n",
    "model_1.add(Dropout(rate=0.25))\n",
    "model_1.add(Flatten())\n",
    "model_1.add(Dense(256, activation='relu'))\n",
    "model_1.add(Dropout(rate=0.5))\n",
    "model_1.add(Dense(43, activation='softmax'))\n",
    "model_1.summary()\n",
    "print(len(model_1.layers))\n",
    "\n",
    "\n",
    "# Compilation of the model_1\n",
    "model_1.compile(loss='categorical_crossentropy', optimizer='adam', metrics=['accuracy'])\n",
    "\n",
    "epochs = 10\n",
    "history_1 = model_1.fit(X_train, y_train, batch_size=32, epochs=epochs, validation_data=(X_val, y_val))\n",
    "model_1.save('traffic_classifier_1.h5')\n",
    "\n",
    "# Plotting graphs for accuracy\n",
    "plt.figure(0)\n",
    "plt.plot(history_1.history['accuracy'], label='training accuracy')\n",
    "plt.plot(history_1.history['val_accuracy'], label='val accuracy')\n",
    "plt.title('Accuracy')\n",
    "plt.xlabel('epochs')\n",
    "plt.ylabel('accuracy')\n",
    "plt.legend()\n",
    "plt.show()\n",
    "\n",
    "plt.figure(1)\n",
    "plt.plot(history_1.history['loss'], label='training loss')\n",
    "plt.plot(history_1.history['val_loss'], label='val loss')\n",
    "plt.title('Loss')\n",
    "plt.xlabel('epochs')\n",
    "plt.ylabel('loss')\n",
    "plt.legend()\n",
    "plt.show()\n",
    "\n",
    "# Testing the model_1\n",
    "test_path = \"C:\\\\Users\\\\patel\\\\OneDrive\\\\download\\\\archive\\\\\"\n",
    "path = os.path.join(test_path)\n",
    "data = \"C:\\\\Users\\\\patel\\\\OneDrive\\\\download\\\\archive\\\\\"\n",
    "y_test = pd.read_csv(data +'Test.csv')\n",
    "labels = y_test[\"ClassId\"].values\n",
    "imgs = y_test[\"Path\"].values\n",
    "\n",
    "data=[]\n",
    "\n",
    "for img in imgs:\n",
    "    image = Image.open(path + '\\\\' + img)\n",
    "    image = image.resize((30,30))\n",
    "    data.append(np.array(image))\n",
    "\n",
    "X_test = np.array(data)\n",
    "\n",
    "# Normalizing test set\n",
    "ascolumns = X_test.reshape(-1, 3)\n",
    "t = scaler.transform(ascolumns)\n",
    "X_test = t.reshape(X_test.shape)\n",
    "\n",
    "# Predicting on test set\n",
    "pred = np.argmax(model_1.predict(X_test),axis=1)\n",
    "\n",
    "# Performance evaluation\n",
    "cm = confusion_matrix(labels, pred)\n",
    "print('Confusion Matrix:')\n",
    "print(cm)\n",
    "\n",
    "# accuracy: (tp + tn) / (p + n)\n",
    "accuracy = accuracy_score(labels, pred)\n",
    "print('Accuracy: %f' % accuracy)\n",
    "# precision tp / (tp + fp)\n",
    "precision = precision_score(labels, pred, average='macro')\n",
    "print('Precision: %f' % precision)\n",
    "# recall: tp / (tp + fn)\n",
    "recall = recall_score(labels, pred, average='macro')\n",
    "print('Recall: %f' % recall)\n",
    "# f1: 2 tp / (2 tp + fp + fn)\n",
    "f1 = f1_score(labels, pred, average='macro')\n",
    "print('F1 score: %f' % f1)\n"
   ]
  },
  {
   "cell_type": "markdown",
   "id": "553ce056",
   "metadata": {},
   "source": [
    "### Model 3\n"
   ]
  },
  {
   "cell_type": "code",
   "execution_count": 34,
   "id": "a6a43a2e",
   "metadata": {},
   "outputs": [
    {
     "name": "stdout",
     "output_type": "stream",
     "text": [
      "Model: \"sequential_9\"\n",
      "_________________________________________________________________\n",
      " Layer (type)                Output Shape              Param #   \n",
      "=================================================================\n",
      " conv2d_11 (Conv2D)          (None, 26, 26, 32)        2432      \n",
      "                                                                 \n",
      " max_pooling2d_10 (MaxPoolin  (None, 13, 13, 32)       0         \n",
      " g2D)                                                            \n",
      "                                                                 \n",
      " dropout_18 (Dropout)        (None, 13, 13, 32)        0         \n",
      "                                                                 \n",
      " flatten_8 (Flatten)         (None, 5408)              0         \n",
      "                                                                 \n",
      " dense_16 (Dense)            (None, 256)               1384704   \n",
      "                                                                 \n",
      " dropout_19 (Dropout)        (None, 256)               0         \n",
      "                                                                 \n",
      " dense_17 (Dense)            (None, 43)                11051     \n",
      "                                                                 \n",
      "=================================================================\n",
      "Total params: 1,398,187\n",
      "Trainable params: 1,398,187\n",
      "Non-trainable params: 0\n",
      "_________________________________________________________________\n",
      "7\n",
      "Epoch 1/10\n",
      "1961/1961 [==============================] - 32s 16ms/step - loss: 1.2610 - accuracy: 0.6453 - val_loss: 0.3688 - val_accuracy: 0.9146\n",
      "Epoch 2/10\n",
      "1961/1961 [==============================] - 31s 16ms/step - loss: 0.5250 - accuracy: 0.8432 - val_loss: 0.1919 - val_accuracy: 0.9606\n",
      "Epoch 3/10\n",
      "1961/1961 [==============================] - 31s 16ms/step - loss: 0.4078 - accuracy: 0.8782 - val_loss: 0.1674 - val_accuracy: 0.9666\n",
      "Epoch 4/10\n",
      "1961/1961 [==============================] - 31s 16ms/step - loss: 0.3476 - accuracy: 0.8960 - val_loss: 0.1155 - val_accuracy: 0.9745\n",
      "Epoch 5/10\n",
      "1961/1961 [==============================] - 31s 16ms/step - loss: 0.3088 - accuracy: 0.9090 - val_loss: 0.0972 - val_accuracy: 0.9813\n",
      "Epoch 6/10\n",
      "1961/1961 [==============================] - 32s 16ms/step - loss: 0.2764 - accuracy: 0.9170 - val_loss: 0.0929 - val_accuracy: 0.9797\n",
      "Epoch 7/10\n",
      "1961/1961 [==============================] - 32s 16ms/step - loss: 0.2513 - accuracy: 0.9257 - val_loss: 0.0785 - val_accuracy: 0.9806\n",
      "Epoch 8/10\n",
      "1961/1961 [==============================] - 31s 16ms/step - loss: 0.2461 - accuracy: 0.9289 - val_loss: 0.0794 - val_accuracy: 0.9818\n",
      "Epoch 9/10\n",
      "1961/1961 [==============================] - 35s 18ms/step - loss: 0.2343 - accuracy: 0.9304 - val_loss: 0.0701 - val_accuracy: 0.9851\n",
      "Epoch 10/10\n",
      "1961/1961 [==============================] - 36s 18ms/step - loss: 0.2164 - accuracy: 0.9357 - val_loss: 0.0728 - val_accuracy: 0.9855\n"
     ]
    },
    {
     "data": {
      "image/png": "[encoded data removed]",
      "text/plain": [
       "<Figure size 432x288 with 1 Axes>"
      ]
     },
     "metadata": {
      "needs_background": "light"
     },
     "output_type": "display_data"
    },
    {
     "data": {
      "image/png": "[encoded data removed]",
      "text/plain": [
       "<Figure size 432x288 with 1 Axes>"
      ]
     },
     "metadata": {
      "needs_background": "light"
     },
     "output_type": "display_data"
    },
    {
     "name": "stdout",
     "output_type": "stream",
     "text": [
      "395/395 [==============================] - 3s 6ms/step\n",
      "Confusion Matrix:\n",
      "[[ 51   7   0 ...   0   0   0]\n",
      " [  2 695  12 ...   0   0   0]\n",
      " [  0  18 712 ...   0   0   0]\n",
      " ...\n",
      " [  0   0   0 ...  88   0   0]\n",
      " [  0   0   0 ...   0  51   0]\n",
      " [  0   0   0 ...   0   0  89]]\n",
      "Accuracy: 0.936184\n",
      "Precision: 0.920444\n",
      "Recall: 0.925258\n",
      "F1 score: 0.920786\n"
     ]
    }
   ],
   "source": [
    "model_2 = Sequential()\n",
    "model_2.add(Conv2D(filters=32, kernel_size=(5,5), activation='relu', input_shape=X_train.shape[1:]))\n",
    "model_2.add(MaxPool2D(pool_size=(2, 2)))\n",
    "model_2.add(Dropout(rate=0.5))\n",
    "model_2.add(Flatten())\n",
    "model_2.add(Dense(256, activation='relu'))\n",
    "model_2.add(Dropout(rate=0.5))\n",
    "model_2.add(Dense(43, activation='softmax'))\n",
    "model_2.summary()\n",
    "print(len(model_2.layers))\n",
    "\n",
    "\n",
    "# Compilation of the model_2\n",
    "model_2.compile(loss='categorical_crossentropy', optimizer='adam', metrics=['accuracy'])\n",
    "\n",
    "epochs = 10\n",
    "history_2 = model_2.fit(X_train, y_train, batch_size=16, epochs=epochs, validation_data=(X_val, y_val))\n",
    "model_2.save('traffic_classifier_2.h5')\n",
    "\n",
    "# Plotting graphs for accuracy\n",
    "plt.figure(0)\n",
    "plt.plot(history_2.history['accuracy'], label='training accuracy')\n",
    "plt.plot(history_2.history['val_accuracy'], label='val accuracy')\n",
    "plt.title('Accuracy')\n",
    "plt.xlabel('epochs')\n",
    "plt.ylabel('accuracy')\n",
    "plt.legend()\n",
    "plt.show()\n",
    "\n",
    "plt.figure(1)\n",
    "plt.plot(history_2.history['loss'], label='training loss')\n",
    "plt.plot(history_2.history['val_loss'], label='val loss')\n",
    "plt.title('Loss')\n",
    "plt.xlabel('epochs')\n",
    "plt.ylabel('loss')\n",
    "plt.legend()\n",
    "plt.show()\n",
    "\n",
    "# Testing the model_2\n",
    "test_path = \"C:\\\\Users\\\\patel\\\\OneDrive\\\\download\\\\archive\\\\\"\n",
    "path = os.path.join(test_path)\n",
    "data = \"C:\\\\Users\\\\patel\\\\OneDrive\\\\download\\\\archive\\\\\"\n",
    "y_test = pd.read_csv(data +'Test.csv')\n",
    "labels = y_test[\"ClassId\"].values\n",
    "imgs = y_test[\"Path\"].values\n",
    "\n",
    "data=[]\n",
    "\n",
    "for img in imgs:\n",
    "    image = Image.open(path + '\\\\' + img)\n",
    "    image = image.resize((30,30))\n",
    "    data.append(np.array(image))\n",
    "\n",
    "X_test = np.array(data)\n",
    "\n",
    "# Normalizing test set\n",
    "ascolumns = X_test.reshape(-1, 3)\n",
    "t = scaler.transform(ascolumns)\n",
    "X_test = t.reshape(X_test.shape)\n",
    "\n",
    "# Predicting on test set\n",
    "pred = np.argmax(model_2.predict(X_test),axis=1)\n",
    "\n",
    "# Performance evaluation\n",
    "cm = confusion_matrix(labels, pred)\n",
    "print('Confusion Matrix:')\n",
    "print(cm)\n",
    "\n",
    "# accuracy: (tp + tn) / (p + n)\n",
    "accuracy = accuracy_score(labels, pred)\n",
    "print('Accuracy: %f' % accuracy)\n",
    "# precision tp / (tp + fp)\n",
    "precision = precision_score(labels, pred, average='macro')\n",
    "print('Precision: %f' % precision)\n",
    "# recall: tp / (tp + fn)\n",
    "recall = recall_score(labels, pred, average='macro')\n",
    "print('Recall: %f' % recall)\n",
    "# f1: 2 tp / (2 tp + fp + fn)\n",
    "f1 = f1_score(labels, pred, average='macro')\n",
    "print('F1 score: %f' % f1)"
   ]
  },
  {
   "cell_type": "markdown",
   "id": "57e11850",
   "metadata": {},
   "source": [
    "### Model 4\n"
   ]
  },
  {
   "cell_type": "code",
   "execution_count": 37,
   "id": "32dc027f",
   "metadata": {
    "scrolled": false
   },
   "outputs": [
    {
     "name": "stdout",
     "output_type": "stream",
     "text": [
      "Model: \"sequential_12\"\n",
      "_________________________________________________________________\n",
      " Layer (type)                Output Shape              Param #   \n",
      "=================================================================\n",
      " conv2d_18 (Conv2D)          (None, 26, 26, 32)        2432      \n",
      "                                                                 \n",
      " max_pooling2d_17 (MaxPoolin  (None, 13, 13, 32)       0         \n",
      " g2D)                                                            \n",
      "                                                                 \n",
      " dropout_28 (Dropout)        (None, 13, 13, 32)        0         \n",
      "                                                                 \n",
      " conv2d_19 (Conv2D)          (None, 11, 11, 64)        18496     \n",
      "                                                                 \n",
      " max_pooling2d_18 (MaxPoolin  (None, 5, 5, 64)         0         \n",
      " g2D)                                                            \n",
      "                                                                 \n",
      " dropout_29 (Dropout)        (None, 5, 5, 64)          0         \n",
      "                                                                 \n",
      " conv2d_20 (Conv2D)          (None, 5, 5, 128)         8320      \n",
      "                                                                 \n",
      " max_pooling2d_19 (MaxPoolin  (None, 2, 2, 128)        0         \n",
      " g2D)                                                            \n",
      "                                                                 \n",
      " dropout_30 (Dropout)        (None, 2, 2, 128)         0         \n",
      "                                                                 \n",
      " flatten_11 (Flatten)        (None, 512)               0         \n",
      "                                                                 \n",
      " dense_22 (Dense)            (None, 256)               131328    \n",
      "                                                                 \n",
      " dropout_31 (Dropout)        (None, 256)               0         \n",
      "                                                                 \n",
      " dense_23 (Dense)            (None, 43)                11051     \n",
      "                                                                 \n",
      "=================================================================\n",
      "Total params: 171,627\n",
      "Trainable params: 171,627\n",
      "Non-trainable params: 0\n",
      "_________________________________________________________________\n",
      "13\n",
      "Epoch 1/10\n",
      "981/981 [==============================] - 27s 27ms/step - loss: 2.6751 - accuracy: 0.2458 - val_loss: 1.8275 - val_accuracy: 0.4489\n",
      "Epoch 2/10\n",
      "981/981 [==============================] - 27s 28ms/step - loss: 1.6562 - accuracy: 0.4676 - val_loss: 1.1669 - val_accuracy: 0.6415\n",
      "Epoch 3/10\n",
      "981/981 [==============================] - 29s 30ms/step - loss: 1.2890 - accuracy: 0.5770 - val_loss: 0.8247 - val_accuracy: 0.7478\n",
      "Epoch 4/10\n",
      "981/981 [==============================] - 27s 27ms/step - loss: 1.0997 - accuracy: 0.6422 - val_loss: 0.6738 - val_accuracy: 0.8059\n",
      "Epoch 5/10\n",
      "981/981 [==============================] - 27s 27ms/step - loss: 0.9784 - accuracy: 0.6768 - val_loss: 0.5393 - val_accuracy: 0.8484\n",
      "Epoch 6/10\n",
      "981/981 [==============================] - 27s 27ms/step - loss: 0.8807 - accuracy: 0.7120 - val_loss: 0.4860 - val_accuracy: 0.8619\n",
      "Epoch 7/10\n",
      "981/981 [==============================] - 28s 28ms/step - loss: 0.8154 - accuracy: 0.7322 - val_loss: 0.3857 - val_accuracy: 0.8859\n",
      "Epoch 8/10\n",
      "981/981 [==============================] - 29s 29ms/step - loss: 0.7721 - accuracy: 0.7476 - val_loss: 0.3471 - val_accuracy: 0.9037\n",
      "Epoch 9/10\n",
      "981/981 [==============================] - 28s 29ms/step - loss: 0.7343 - accuracy: 0.7607 - val_loss: 0.3012 - val_accuracy: 0.9200\n",
      "Epoch 10/10\n",
      "981/981 [==============================] - 28s 29ms/step - loss: 0.6985 - accuracy: 0.7733 - val_loss: 0.2813 - val_accuracy: 0.9218\n"
     ]
    },
    {
     "data": {
      "image/png": "[encoded data removed]",
      "text/plain": [
       "<Figure size 432x288 with 1 Axes>"
      ]
     },
     "metadata": {
      "needs_background": "light"
     },
     "output_type": "display_data"
    },
    {
     "data": {
      "image/png": "[encoded data removed]",
      "text/plain": [
       "<Figure size 432x288 with 1 Axes>"
      ]
     },
     "metadata": {
      "needs_background": "light"
     },
     "output_type": "display_data"
    },
    {
     "name": "stdout",
     "output_type": "stream",
     "text": [
      "395/395 [==============================] - 3s 6ms/step\n",
      "Confusion Matrix:\n",
      "[[ 15  12   0 ...   0   0   0]\n",
      " [  0 646  13 ...   0   0   0]\n",
      " [  0   3 541 ...   0   0   0]\n",
      " ...\n",
      " [  0   0   1 ...  84   0   0]\n",
      " [  0   0   0 ...   0  46   6]\n",
      " [  0   0   0 ...   0   1  86]]\n",
      "Accuracy: 0.874109\n",
      "Precision: 0.878127\n",
      "Recall: 0.821166\n",
      "F1 score: 0.834557\n"
     ]
    }
   ],
   "source": [
    "model_3 = Sequential()\n",
    "model_3.add(Conv2D(filters=32, kernel_size=(5,5), activation='relu', input_shape=X_train.shape[1:]))\n",
    "model_3.add(MaxPool2D(pool_size=(2, 2)))\n",
    "model_3.add(Dropout(rate=0.50))\n",
    "model_3.add(Conv2D(filters=64, kernel_size=(3,3), activation='relu', input_shape=X_train.shape[1:]))\n",
    "model_3.add(MaxPool2D(pool_size=(2, 2)))\n",
    "model_3.add(Dropout(rate=0.50))\n",
    "model_3.add(Conv2D(filters=128, kernel_size=(1,1), activation='relu', input_shape=X_train.shape[1:]))\n",
    "model_3.add(MaxPool2D(pool_size=(2, 2)))\n",
    "model_3.add(Dropout(rate=0.25))\n",
    "model_3.add(Flatten())\n",
    "model_3.add(Dense(256, activation='relu'))\n",
    "model_3.add(Dropout(rate=0.5))\n",
    "model_3.add(Dense(43, activation='softmax'))\n",
    "model_3.summary()\n",
    "print(len(model_3.layers))\n",
    "\n",
    "\n",
    "# Compilation of the model_3\n",
    "model_3.compile(loss='categorical_crossentropy', optimizer='adam', metrics=['accuracy'])\n",
    "\n",
    "epochs = 10\n",
    "history_3 = model_3.fit(X_train, y_train, batch_size=32, epochs=epochs, validation_data=(X_val, y_val))\n",
    "model_3.save('traffic_classifier_3.h5')\n",
    "\n",
    "# Plotting graphs for accuracy\n",
    "plt.figure(0)\n",
    "plt.plot(history_3.history['accuracy'], label='training accuracy')\n",
    "plt.plot(history_3.history['val_accuracy'], label='val accuracy')\n",
    "plt.title('Accuracy')\n",
    "plt.xlabel('epochs')\n",
    "plt.ylabel('accuracy')\n",
    "plt.legend()\n",
    "plt.show()\n",
    "\n",
    "plt.figure(1)\n",
    "plt.plot(history_3.history['loss'], label='training loss')\n",
    "plt.plot(history_3.history['val_loss'], label='val loss')\n",
    "plt.title('Loss')\n",
    "plt.xlabel('epochs')\n",
    "plt.ylabel('loss')\n",
    "plt.legend()\n",
    "plt.show()\n",
    "\n",
    "# Testing the model_3\n",
    "test_path = \"C:\\\\Users\\\\patel\\\\OneDrive\\\\download\\\\archive\\\\\"\n",
    "path = os.path.join(test_path)\n",
    "data = \"C:\\\\Users\\\\patel\\\\OneDrive\\\\download\\\\archive\\\\\"\n",
    "y_test = pd.read_csv(data +'Test.csv')\n",
    "labels = y_test[\"ClassId\"].values\n",
    "imgs = y_test[\"Path\"].values\n",
    "\n",
    "data=[]\n",
    "\n",
    "for img in imgs:\n",
    "    image = Image.open(path + '\\\\' + img)\n",
    "    image = image.resize((30,30))\n",
    "    data.append(np.array(image))\n",
    "\n",
    "X_test = np.array(data)\n",
    "\n",
    "# Normalizing test set\n",
    "ascolumns = X_test.reshape(-1, 3)\n",
    "t = scaler.transform(ascolumns)\n",
    "X_test = t.reshape(X_test.shape)\n",
    "\n",
    "# Predicting on test set\n",
    "pred = np.argmax(model_3.predict(X_test),axis=1)\n",
    "\n",
    "# Performance evaluation\n",
    "cm = confusion_matrix(labels, pred)\n",
    "print('Confusion Matrix:')\n",
    "print(cm)\n",
    "\n",
    "# accuracy: (tp + tn) / (p + n)\n",
    "accuracy = accuracy_score(labels, pred)\n",
    "print('Accuracy: %f' % accuracy)\n",
    "# precision tp / (tp + fp)\n",
    "precision = precision_score(labels, pred, average='macro')\n",
    "print('Precision: %f' % precision)\n",
    "# recall: tp / (tp + fn)\n",
    "recall = recall_score(labels, pred, average='macro')\n",
    "print('Recall: %f' % recall)\n",
    "# f1: 2 tp / (2 tp + fp + fn)\n",
    "f1 = f1_score(labels, pred, average='macro')\n",
    "print('F1 score: %f' % f1)"
   ]
  },
  {
   "cell_type": "code",
   "execution_count": 38,
   "id": "b6f0e2a5",
   "metadata": {},
   "outputs": [
    {
     "name": "stdout",
     "output_type": "stream",
     "text": [
      "Model: \"sequential_13\"\n",
      "_________________________________________________________________\n",
      " Layer (type)                Output Shape              Param #   \n",
      "=================================================================\n",
      " conv2d_21 (Conv2D)          (None, 26, 26, 32)        2432      \n",
      "                                                                 \n",
      " max_pooling2d_20 (MaxPoolin  (None, 13, 13, 32)       0         \n",
      " g2D)                                                            \n",
      "                                                                 \n",
      " dropout_32 (Dropout)        (None, 13, 13, 32)        0         \n",
      "                                                                 \n",
      " conv2d_22 (Conv2D)          (None, 11, 11, 64)        18496     \n",
      "                                                                 \n",
      " max_pooling2d_21 (MaxPoolin  (None, 5, 5, 64)         0         \n",
      " g2D)                                                            \n",
      "                                                                 \n",
      " dropout_33 (Dropout)        (None, 5, 5, 64)          0         \n",
      "                                                                 \n",
      " conv2d_23 (Conv2D)          (None, 5, 5, 128)         8320      \n",
      "                                                                 \n",
      " max_pooling2d_22 (MaxPoolin  (None, 2, 2, 128)        0         \n",
      " g2D)                                                            \n",
      "                                                                 \n",
      " dropout_34 (Dropout)        (None, 2, 2, 128)         0         \n",
      "                                                                 \n",
      " flatten_12 (Flatten)        (None, 512)               0         \n",
      "                                                                 \n",
      " dense_24 (Dense)            (None, 256)               131328    \n",
      "                                                                 \n",
      " dropout_35 (Dropout)        (None, 256)               0         \n",
      "                                                                 \n",
      " dense_25 (Dense)            (None, 43)                11051     \n",
      "                                                                 \n",
      "=================================================================\n",
      "Total params: 171,627\n",
      "Trainable params: 171,627\n",
      "Non-trainable params: 0\n",
      "_________________________________________________________________\n",
      "13\n",
      "Epoch 1/10\n",
      "491/491 [==============================] - 28s 55ms/step - loss: 2.9057 - accuracy: 0.1921 - val_loss: 2.0413 - val_accuracy: 0.3943\n",
      "Epoch 2/10\n",
      "491/491 [==============================] - 24s 49ms/step - loss: 1.9099 - accuracy: 0.3878 - val_loss: 1.5090 - val_accuracy: 0.5115\n",
      "Epoch 3/10\n",
      "491/491 [==============================] - 25s 51ms/step - loss: 1.5270 - accuracy: 0.4959 - val_loss: 1.1798 - val_accuracy: 0.6465\n",
      "Epoch 4/10\n",
      "491/491 [==============================] - 27s 54ms/step - loss: 1.2787 - accuracy: 0.5740 - val_loss: 0.8685 - val_accuracy: 0.7530\n",
      "Epoch 5/10\n",
      "491/491 [==============================] - 28s 57ms/step - loss: 1.1252 - accuracy: 0.6234 - val_loss: 0.7295 - val_accuracy: 0.7915\n",
      "Epoch 6/10\n",
      "491/491 [==============================] - 24s 48ms/step - loss: 1.0005 - accuracy: 0.6628 - val_loss: 0.5859 - val_accuracy: 0.8279\n",
      "Epoch 7/10\n",
      "491/491 [==============================] - 23s 47ms/step - loss: 0.9207 - accuracy: 0.6918 - val_loss: 0.5197 - val_accuracy: 0.8500\n",
      "Epoch 8/10\n",
      "491/491 [==============================] - 23s 46ms/step - loss: 0.8454 - accuracy: 0.7158 - val_loss: 0.4412 - val_accuracy: 0.8842\n",
      "Epoch 9/10\n",
      "491/491 [==============================] - 23s 47ms/step - loss: 0.7916 - accuracy: 0.7373 - val_loss: 0.3924 - val_accuracy: 0.8888\n",
      "Epoch 10/10\n",
      "491/491 [==============================] - 23s 47ms/step - loss: 0.7494 - accuracy: 0.7483 - val_loss: 0.3418 - val_accuracy: 0.9056\n"
     ]
    },
    {
     "data": {
      "image/png": "[encoded data removed]",
      "text/plain": [
       "<Figure size 432x288 with 1 Axes>"
      ]
     },
     "metadata": {
      "needs_background": "light"
     },
     "output_type": "display_data"
    },
    {
     "data": {
      "image/png": "[encoded data removed]",
      "text/plain": [
       "<Figure size 432x288 with 1 Axes>"
      ]
     },
     "metadata": {
      "needs_background": "light"
     },
     "output_type": "display_data"
    },
    {
     "name": "stdout",
     "output_type": "stream",
     "text": [
      "395/395 [==============================] - 3s 8ms/step\n",
      "Confusion Matrix:\n",
      "[[  0  45   0 ...   0   0   0]\n",
      " [  0 625  65 ...   0   0   0]\n",
      " [  0   7 553 ...   0   0   0]\n",
      " ...\n",
      " [  0   0   0 ...  85   0   0]\n",
      " [  0   0   0 ...   0  39   3]\n",
      " [  0   0   0 ...   0   0  59]]\n",
      "Accuracy: 0.850673\n",
      "Precision: 0.818703\n",
      "Recall: 0.771105\n",
      "F1 score: 0.771558\n"
     ]
    },
    {
     "name": "stderr",
     "output_type": "stream",
     "text": [
      "C:\\Users\\patel\\AppData\\Local\\Packages\\PythonSoftwareFoundation.Python.3.10_qbz5n2kfra8p0\\LocalCache\\local-packages\\Python310\\site-packages\\sklearn\\metrics\\_classification.py:1327: UndefinedMetricWarning: Precision is ill-defined and being set to 0.0 in labels with no predicted samples. Use `zero_division` parameter to control this behavior.\n",
      "  _warn_prf(average, modifier, msg_start, len(result))\n"
     ]
    }
   ],
   "source": [
    "model_4 = Sequential()\n",
    "model_4.add(Conv2D(filters=32, kernel_size=(5,5), activation='relu', input_shape=X_train.shape[1:]))\n",
    "model_4.add(MaxPool2D(pool_size=(2, 2)))\n",
    "model_4.add(Dropout(rate=0.50))\n",
    "model_4.add(Conv2D(filters=64, kernel_size=(3,3), activation='relu', input_shape=X_train.shape[1:]))\n",
    "model_4.add(MaxPool2D(pool_size=(2, 2)))\n",
    "model_4.add(Dropout(rate=0.50))\n",
    "model_4.add(Conv2D(filters=128, kernel_size=(1,1), activation='relu', input_shape=X_train.shape[1:]))\n",
    "model_4.add(MaxPool2D(pool_size=(2, 2)))\n",
    "model_4.add(Dropout(rate=0.25))\n",
    "model_4.add(Flatten())\n",
    "model_4.add(Dense(256, activation='relu'))\n",
    "model_4.add(Dropout(rate=0.5))\n",
    "model_4.add(Dense(43, activation='softmax'))\n",
    "model_4.summary()\n",
    "print(len(model_4.layers))\n",
    "\n",
    "\n",
    "# Compilation of the model_4\n",
    "model_4.compile(loss='categorical_crossentropy', optimizer='adam', metrics=['accuracy'])\n",
    "\n",
    "epochs = 10\n",
    "history_4 = model_4.fit(X_train, y_train, batch_size=64, epochs=epochs, validation_data=(X_val, y_val))\n",
    "model_4.save('traffic_classifier_4.h5')\n",
    "\n",
    "# Plotting graphs for accuracy\n",
    "plt.figure(0)\n",
    "plt.plot(history_4.history['accuracy'], label='training accuracy')\n",
    "plt.plot(history_4.history['val_accuracy'], label='val accuracy')\n",
    "plt.title('Accuracy')\n",
    "plt.xlabel('epochs')\n",
    "plt.ylabel('accuracy')\n",
    "plt.legend()\n",
    "plt.show()\n",
    "\n",
    "plt.figure(1)\n",
    "plt.plot(history_4.history['loss'], label='training loss')\n",
    "plt.plot(history_4.history['val_loss'], label='val loss')\n",
    "plt.title('Loss')\n",
    "plt.xlabel('epochs')\n",
    "plt.ylabel('loss')\n",
    "plt.legend()\n",
    "plt.show()\n",
    "\n",
    "# Testing the model_4\n",
    "test_path = \"C:\\\\Users\\\\patel\\\\OneDrive\\\\download\\\\archive\\\\\"\n",
    "path = os.path.join(test_path)\n",
    "data = \"C:\\\\Users\\\\patel\\\\OneDrive\\\\download\\\\archive\\\\\"\n",
    "y_test = pd.read_csv(data +'Test.csv')\n",
    "labels = y_test[\"ClassId\"].values\n",
    "imgs = y_test[\"Path\"].values\n",
    "\n",
    "data=[]\n",
    "\n",
    "for img in imgs:\n",
    "    image = Image.open(path + '\\\\' + img)\n",
    "    image = image.resize((30,30))\n",
    "    data.append(np.array(image))\n",
    "\n",
    "X_test = np.array(data)\n",
    "\n",
    "# Normalizing test set\n",
    "ascolumns = X_test.reshape(-1, 3)\n",
    "t = scaler.transform(ascolumns)\n",
    "X_test = t.reshape(X_test.shape)\n",
    "\n",
    "# Predicting on test set\n",
    "pred = np.argmax(model_4.predict(X_test),axis=1)\n",
    "\n",
    "# Performance evaluation\n",
    "cm = confusion_matrix(labels, pred)\n",
    "print('Confusion Matrix:')\n",
    "print(cm)\n",
    "\n",
    "# accuracy: (tp + tn) / (p + n)\n",
    "accuracy = accuracy_score(labels, pred)\n",
    "print('Accuracy: %f' % accuracy)\n",
    "# precision tp / (tp + fp)\n",
    "precision = precision_score(labels, pred, average='macro')\n",
    "print('Precision: %f' % precision)\n",
    "# recall: tp / (tp + fn)\n",
    "recall = recall_score(labels, pred, average='macro')\n",
    "print('Recall: %f' % recall)\n",
    "# f1: 2 tp / (2 tp + fp + fn)\n",
    "f1 = f1_score(labels, pred, average='macro')\n",
    "print('F1 score: %f' % f1)"
   ]
  },
  {
   "cell_type": "code",
   "execution_count": null,
   "id": "a24aec9f",
   "metadata": {},
   "outputs": [],
   "source": []
  }
 ],
 "metadata": {
  "kernelspec": {
   "display_name": "Python 3 (ipykernel)",
   "language": "python",
   "name": "python3"
  },
  "language_info": {
   "codemirror_mode": {
    "name": "ipython",
    "version": 3
   },
   "file_extension": ".py",
   "mimetype": "text/x-python",
   "name": "python",
   "nbconvert_exporter": "python",
   "pygments_lexer": "ipython3",
   "version": "3.10.8"
  }
 },
 "nbformat": 4,
 "nbformat_minor": 5
}
